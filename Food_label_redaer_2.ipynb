{
  "nbformat": 4,
  "nbformat_minor": 0,
  "metadata": {
    "colab": {
      "provenance": [],
      "authorship_tag": "ABX9TyOWC+Pg6qvxyaIRe4SoQHC4",
      "include_colab_link": true
    },
    "kernelspec": {
      "name": "python3",
      "display_name": "Python 3"
    },
    "language_info": {
      "name": "python"
    }
  },
  "cells": [
    {
      "cell_type": "markdown",
      "metadata": {
        "id": "view-in-github",
        "colab_type": "text"
      },
      "source": [
        "<a href=\"https://colab.research.google.com/github/Sarthakpunj/Food_label_reader_2/blob/main/Food_label_redaer_2.ipynb\" target=\"_parent\"><img src=\"https://colab.research.google.com/assets/colab-badge.svg\" alt=\"Open In Colab\"/></a>"
      ]
    },
    {
      "cell_type": "code",
      "execution_count": 22,
      "metadata": {
        "colab": {
          "base_uri": "https://localhost:8080/",
          "height": 299
        },
        "id": "rcdq1GtPeXEM",
        "outputId": "70e71fac-b784-4393-cd31-243cc1b61ea2"
      },
      "outputs": [
        {
          "output_type": "display_data",
          "data": {
            "text/plain": [
              "<IPython.core.display.HTML object>"
            ],
            "text/html": [
              "\n",
              "     <input type=\"file\" id=\"files-1c8fb7d9-a976-49da-a60c-3d6a6eeef3f9\" name=\"files[]\" multiple disabled\n",
              "        style=\"border:none\" />\n",
              "     <output id=\"result-1c8fb7d9-a976-49da-a60c-3d6a6eeef3f9\">\n",
              "      Upload widget is only available when the cell has been executed in the\n",
              "      current browser session. Please rerun this cell to enable.\n",
              "      </output>\n",
              "      <script>// Copyright 2017 Google LLC\n",
              "//\n",
              "// Licensed under the Apache License, Version 2.0 (the \"License\");\n",
              "// you may not use this file except in compliance with the License.\n",
              "// You may obtain a copy of the License at\n",
              "//\n",
              "//      http://www.apache.org/licenses/LICENSE-2.0\n",
              "//\n",
              "// Unless required by applicable law or agreed to in writing, software\n",
              "// distributed under the License is distributed on an \"AS IS\" BASIS,\n",
              "// WITHOUT WARRANTIES OR CONDITIONS OF ANY KIND, either express or implied.\n",
              "// See the License for the specific language governing permissions and\n",
              "// limitations under the License.\n",
              "\n",
              "/**\n",
              " * @fileoverview Helpers for google.colab Python module.\n",
              " */\n",
              "(function(scope) {\n",
              "function span(text, styleAttributes = {}) {\n",
              "  const element = document.createElement('span');\n",
              "  element.textContent = text;\n",
              "  for (const key of Object.keys(styleAttributes)) {\n",
              "    element.style[key] = styleAttributes[key];\n",
              "  }\n",
              "  return element;\n",
              "}\n",
              "\n",
              "// Max number of bytes which will be uploaded at a time.\n",
              "const MAX_PAYLOAD_SIZE = 100 * 1024;\n",
              "\n",
              "function _uploadFiles(inputId, outputId) {\n",
              "  const steps = uploadFilesStep(inputId, outputId);\n",
              "  const outputElement = document.getElementById(outputId);\n",
              "  // Cache steps on the outputElement to make it available for the next call\n",
              "  // to uploadFilesContinue from Python.\n",
              "  outputElement.steps = steps;\n",
              "\n",
              "  return _uploadFilesContinue(outputId);\n",
              "}\n",
              "\n",
              "// This is roughly an async generator (not supported in the browser yet),\n",
              "// where there are multiple asynchronous steps and the Python side is going\n",
              "// to poll for completion of each step.\n",
              "// This uses a Promise to block the python side on completion of each step,\n",
              "// then passes the result of the previous step as the input to the next step.\n",
              "function _uploadFilesContinue(outputId) {\n",
              "  const outputElement = document.getElementById(outputId);\n",
              "  const steps = outputElement.steps;\n",
              "\n",
              "  const next = steps.next(outputElement.lastPromiseValue);\n",
              "  return Promise.resolve(next.value.promise).then((value) => {\n",
              "    // Cache the last promise value to make it available to the next\n",
              "    // step of the generator.\n",
              "    outputElement.lastPromiseValue = value;\n",
              "    return next.value.response;\n",
              "  });\n",
              "}\n",
              "\n",
              "/**\n",
              " * Generator function which is called between each async step of the upload\n",
              " * process.\n",
              " * @param {string} inputId Element ID of the input file picker element.\n",
              " * @param {string} outputId Element ID of the output display.\n",
              " * @return {!Iterable<!Object>} Iterable of next steps.\n",
              " */\n",
              "function* uploadFilesStep(inputId, outputId) {\n",
              "  const inputElement = document.getElementById(inputId);\n",
              "  inputElement.disabled = false;\n",
              "\n",
              "  const outputElement = document.getElementById(outputId);\n",
              "  outputElement.innerHTML = '';\n",
              "\n",
              "  const pickedPromise = new Promise((resolve) => {\n",
              "    inputElement.addEventListener('change', (e) => {\n",
              "      resolve(e.target.files);\n",
              "    });\n",
              "  });\n",
              "\n",
              "  const cancel = document.createElement('button');\n",
              "  inputElement.parentElement.appendChild(cancel);\n",
              "  cancel.textContent = 'Cancel upload';\n",
              "  const cancelPromise = new Promise((resolve) => {\n",
              "    cancel.onclick = () => {\n",
              "      resolve(null);\n",
              "    };\n",
              "  });\n",
              "\n",
              "  // Wait for the user to pick the files.\n",
              "  const files = yield {\n",
              "    promise: Promise.race([pickedPromise, cancelPromise]),\n",
              "    response: {\n",
              "      action: 'starting',\n",
              "    }\n",
              "  };\n",
              "\n",
              "  cancel.remove();\n",
              "\n",
              "  // Disable the input element since further picks are not allowed.\n",
              "  inputElement.disabled = true;\n",
              "\n",
              "  if (!files) {\n",
              "    return {\n",
              "      response: {\n",
              "        action: 'complete',\n",
              "      }\n",
              "    };\n",
              "  }\n",
              "\n",
              "  for (const file of files) {\n",
              "    const li = document.createElement('li');\n",
              "    li.append(span(file.name, {fontWeight: 'bold'}));\n",
              "    li.append(span(\n",
              "        `(${file.type || 'n/a'}) - ${file.size} bytes, ` +\n",
              "        `last modified: ${\n",
              "            file.lastModifiedDate ? file.lastModifiedDate.toLocaleDateString() :\n",
              "                                    'n/a'} - `));\n",
              "    const percent = span('0% done');\n",
              "    li.appendChild(percent);\n",
              "\n",
              "    outputElement.appendChild(li);\n",
              "\n",
              "    const fileDataPromise = new Promise((resolve) => {\n",
              "      const reader = new FileReader();\n",
              "      reader.onload = (e) => {\n",
              "        resolve(e.target.result);\n",
              "      };\n",
              "      reader.readAsArrayBuffer(file);\n",
              "    });\n",
              "    // Wait for the data to be ready.\n",
              "    let fileData = yield {\n",
              "      promise: fileDataPromise,\n",
              "      response: {\n",
              "        action: 'continue',\n",
              "      }\n",
              "    };\n",
              "\n",
              "    // Use a chunked sending to avoid message size limits. See b/62115660.\n",
              "    let position = 0;\n",
              "    do {\n",
              "      const length = Math.min(fileData.byteLength - position, MAX_PAYLOAD_SIZE);\n",
              "      const chunk = new Uint8Array(fileData, position, length);\n",
              "      position += length;\n",
              "\n",
              "      const base64 = btoa(String.fromCharCode.apply(null, chunk));\n",
              "      yield {\n",
              "        response: {\n",
              "          action: 'append',\n",
              "          file: file.name,\n",
              "          data: base64,\n",
              "        },\n",
              "      };\n",
              "\n",
              "      let percentDone = fileData.byteLength === 0 ?\n",
              "          100 :\n",
              "          Math.round((position / fileData.byteLength) * 100);\n",
              "      percent.textContent = `${percentDone}% done`;\n",
              "\n",
              "    } while (position < fileData.byteLength);\n",
              "  }\n",
              "\n",
              "  // All done.\n",
              "  yield {\n",
              "    response: {\n",
              "      action: 'complete',\n",
              "    }\n",
              "  };\n",
              "}\n",
              "\n",
              "scope.google = scope.google || {};\n",
              "scope.google.colab = scope.google.colab || {};\n",
              "scope.google.colab._files = {\n",
              "  _uploadFiles,\n",
              "  _uploadFilesContinue,\n",
              "};\n",
              "})(self);\n",
              "</script> "
            ]
          },
          "metadata": {}
        },
        {
          "output_type": "stream",
          "name": "stdout",
          "text": [
            "Saving calorie-count-label.jpg to calorie-count-label.jpg\n",
            "Extracted Text:\n",
            "   \n",
            "\n",
            "(RGREDIENTE: WATER VEGETABLE OR MLBID (00 SOM 0. PRY |\n",
            "OROGERATED SOE Cy. RATURA. SET CC REALE\n",
            "GELATIR, VEGETABLE MONO MID) OGLYOERECS, MO. Sit\n",
            "(POTASSRIM SORBATE, CALCU DISORRG EU LED HOE EAL\n",
            "JCTE AOD, ATU. ID TCR RA PRE\n",
            "\n",
            "ORTTBE FRCL, e\n",
            "\n",
            "ae\n",
            "\f\n"
          ]
        }
      ],
      "source": [
        "\n",
        "\n",
        "# Step 2: Import libraries\n",
        "from PIL import Image\n",
        "import pytesseract\n",
        "from google.colab import files\n",
        "\n",
        "# Step 3: Upload an image\n",
        "uploaded = files.upload()\n",
        "\n",
        "# Step 4: Load the image\n",
        "image_path = next(iter(uploaded))  # Get the uploaded file name\n",
        "image = Image.open(image_path)\n",
        "\n",
        "# Step 5: Extract text from image\n",
        "extracted_text = pytesseract.image_to_string(image)\n",
        "\n",
        "# Step 6: Print the extracted text\n",
        "print(\"Extracted Text:\")\n",
        "print(extracted_text)\n"
      ]
    },
    {
      "cell_type": "code",
      "source": [
        "from pydantic import BaseModel\n",
        "from langchain_google_genai import ChatGoogleGenerativeAI"
      ],
      "metadata": {
        "id": "HJsA6hfTe3uY"
      },
      "execution_count": 23,
      "outputs": []
    },
    {
      "cell_type": "code",
      "source": [
        "from google.colab import userdata\n",
        "api= userdata.get('gemini')\n",
        "\n",
        "llm = ChatGoogleGenerativeAI(google_api_key=api,model=\"gemini-2.0-flash\")"
      ],
      "metadata": {
        "id": "yg99D4JKe774"
      },
      "execution_count": 24,
      "outputs": []
    },
    {
      "cell_type": "code",
      "source": [
        "from langchain_core.prompts import ChatPromptTemplate\n",
        "from langchain_core.output_parsers import PydanticOutputParser"
      ],
      "metadata": {
        "id": "M6lPlcuIe-hR"
      },
      "execution_count": 25,
      "outputs": []
    },
    {
      "cell_type": "code",
      "source": [
        "prompt = ChatPromptTemplate.from_messages(\n",
        "    [\n",
        "        (\n",
        "            \"system\",\n",
        "            \"\"\"\"\n",
        "            You are a food safety analysis assistant. A user has submitted text from the back of a food product. It may include nutrition facts, marketing text, and an ingredient list.\n",
        "\n",
        "Your tasks are:\n",
        "\n",
        "Extract only the ingredient list from the text. Look for a section starting with “Ingredients:” and focus only on the ingredients mentioned there.\n",
        "\n",
        "Analyze the ingredient list for potentially harmful or controversial substances, including:\n",
        "\n",
        "Artificial preservatives (e.g., BHT, BHA, Sodium Benzoate)\n",
        "\n",
        "Artificial colors (e.g., Red 40, Yellow 5)\n",
        "\n",
        "High levels of added sugars or sweeteners (e.g., HFCS, Aspartame)\n",
        "\n",
        "Processed oils (e.g., partially hydrogenated oils, palm oil)\n",
        "\n",
        "Known allergens or irritants (e.g., soy, gluten, dairy) — only flag if relevant\n",
        "\n",
        "Determine whether the product is harmful for human consumption based on current scientific and regulatory knowledge (FDA, WHO, EWG). If any ingredients raise concern, explain clearly why they are considered harmful.\n",
        "\n",
        "If no concerns are found, state that the product appears safe for consumption and explain why.\n",
        "\n",
        "Keep your answer simple and easy to understand. Use clear, factual reasoning. Do not guess or make assumptions if data is unavailable.\n",
        "\n",
        "            \"\"\",\n",
        "        ),\n",
        "        (\"placeholder\",\"{chat_history}\"),\n",
        "        (\"human\",\"{query}\"),\n",
        "        (\"placeholder\",\"{agent_scratchpad}\")\n",
        "    ]\n",
        ")"
      ],
      "metadata": {
        "id": "vMH4JDLre-7S"
      },
      "execution_count": 26,
      "outputs": []
    },
    {
      "cell_type": "code",
      "source": [
        "from langchain.agents import create_tool_calling_agent,AgentExecutor"
      ],
      "metadata": {
        "id": "6Lk0eQQof7_3"
      },
      "execution_count": 27,
      "outputs": []
    },
    {
      "cell_type": "code",
      "source": [
        "tools = []\n",
        "agent = create_tool_calling_agent(\n",
        "    llm = llm,\n",
        "    prompt = prompt,\n",
        "    tools = tools\n",
        ")\n",
        ""
      ],
      "metadata": {
        "id": "25MYoSYbf8dR"
      },
      "execution_count": 28,
      "outputs": []
    },
    {
      "cell_type": "code",
      "source": [
        "agent_exc= AgentExecutor(agent=agent,tools=tools,verbose=True)\n",
        "query = extracted_text\n",
        "raw_res = agent_exc.invoke({\"query\": query})\n",
        "print(raw_res)"
      ],
      "metadata": {
        "colab": {
          "base_uri": "https://localhost:8080/"
        },
        "id": "MVWlVEy2f-fA",
        "outputId": "9e2e0b7d-3f4c-49e1-eaa6-9ed5394467ac"
      },
      "execution_count": 29,
      "outputs": [
        {
          "output_type": "stream",
          "name": "stdout",
          "text": [
            "\n",
            "\n",
            "\u001b[1m> Entering new AgentExecutor chain...\u001b[0m\n",
            "\u001b[32;1m\u001b[1;3mIngredients: WATER, VEGETABLE OIL BLEND (SOYBEAN OIL, FULLY HYDROGENATED SOYBEAN OIL), SALT, CONTAINS LESS THAN 2% OF: GELATIN, VEGETABLE MONO- AND DIGLYCERIDES, MONOSODIUM GLUTAMATE, XANTHAN GUM, PHOSPHORIC ACID, POTASSIUM SORBATE, CALCIUM DISODIUM EDTA (TO PROTECT FLAVOR), VITAMIN A PALMITATE, BETA CAROTENE (COLOR), NATURAL FLAVOR.\n",
            "\n",
            "Analysis:\n",
            "\n",
            "The ingredient list contains the following items of concern:\n",
            "\n",
            "Monosodium Glutamate (MSG): Some individuals are sensitive to MSG, experiencing symptoms such as headaches, flushing, sweating, and other reactions.\n",
            "\n",
            "Potassium Sorbate and Calcium Disodium EDTA: These are preservatives. While generally recognized as safe in small amounts, some people prefer to avoid them.\n",
            "\n",
            "Fully Hydrogenated Soybean Oil: Contains trans fats, which are associated with increased risk of heart disease.\n",
            "\n",
            "Recommendation:\n",
            "\n",
            "The product contains ingredients that may be harmful to certain individuals or have negative health impacts when consumed regularly.\n",
            "\u001b[0m\n",
            "\n",
            "\u001b[1m> Finished chain.\u001b[0m\n",
            "{'query': '   \\n\\n(RGREDIENTE: WATER VEGETABLE OR MLBID (00 SOM 0. PRY |\\nOROGERATED SOE Cy. RATURA. SET CC REALE\\nGELATIR, VEGETABLE MONO MID) OGLYOERECS, MO. Sit\\n(POTASSRIM SORBATE, CALCU DISORRG EU LED HOE EAL\\nJCTE AOD, ATU. ID TCR RA PRE\\n\\nORTTBE FRCL, e\\n\\nae\\n\\x0c', 'output': 'Ingredients: WATER, VEGETABLE OIL BLEND (SOYBEAN OIL, FULLY HYDROGENATED SOYBEAN OIL), SALT, CONTAINS LESS THAN 2% OF: GELATIN, VEGETABLE MONO- AND DIGLYCERIDES, MONOSODIUM GLUTAMATE, XANTHAN GUM, PHOSPHORIC ACID, POTASSIUM SORBATE, CALCIUM DISODIUM EDTA (TO PROTECT FLAVOR), VITAMIN A PALMITATE, BETA CAROTENE (COLOR), NATURAL FLAVOR.\\n\\nAnalysis:\\n\\nThe ingredient list contains the following items of concern:\\n\\nMonosodium Glutamate (MSG): Some individuals are sensitive to MSG, experiencing symptoms such as headaches, flushing, sweating, and other reactions.\\n\\nPotassium Sorbate and Calcium Disodium EDTA: These are preservatives. While generally recognized as safe in small amounts, some people prefer to avoid them.\\n\\nFully Hydrogenated Soybean Oil: Contains trans fats, which are associated with increased risk of heart disease.\\n\\nRecommendation:\\n\\nThe product contains ingredients that may be harmful to certain individuals or have negative health impacts when consumed regularly.\\n'}\n"
          ]
        }
      ]
    }
  ]
}